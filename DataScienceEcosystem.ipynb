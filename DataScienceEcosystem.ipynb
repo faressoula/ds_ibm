{
 "cells": [
  {
   "cell_type": "markdown",
   "id": "bd213612-61fa-4a7f-8ebe-b374483d25c8",
   "metadata": {},
   "source": [
    "# Data Science Tools and Ecosystem"
   ]
  },
  {
   "cell_type": "markdown",
   "id": "59f904a7-d790-4ada-a415-98301aba98e2",
   "metadata": {},
   "source": [
    "In this notebook, Data Science Tools and Ecosystem are summarized."
   ]
  },
  {
   "cell_type": "markdown",
   "id": "188a550b-28de-4e06-9966-822c0fdcef8f",
   "metadata": {},
   "source": [
    " **Objectives:**\n",
    "+ Popular languages for Data Science.\n",
    "+ Commonly used libraries for Data Science.\n",
    "+ Commonly used Data Science tools."
   ]
  },
  {
   "cell_type": "markdown",
   "id": "511cc1cf-33c8-4a5d-a0de-85e7ef456920",
   "metadata": {},
   "source": [
    "Some of the popular languages that Data Scientists use are:\n",
    "\n",
    "1. Python\n",
    "2. SQL\n",
    "3. Julia\n",
    "4. Scala\n",
    "5. R"
   ]
  },
  {
   "cell_type": "markdown",
   "id": "94230475-7d0a-47c2-bc24-544635be5c5f",
   "metadata": {},
   "source": [
    "Some of the commonly used libraries used by Data Scientists include:\n",
    "1. Pandas\n",
    "2. NumPy\n",
    "3. Matplotlib\n",
    "4. Seaborn\n",
    "5. Plotly"
   ]
  },
  {
   "cell_type": "markdown",
   "id": "2b1e2da2-b1b6-497e-b101-e584bcaebb30",
   "metadata": {},
   "source": [
    "| Data Scince Tools |\n",
    "| ----------------- |\n",
    "| Apache Spark      |\n",
    "| TensorFlow        |\n",
    "| RStudio           |\n"
   ]
  },
  {
   "cell_type": "markdown",
   "id": "d50a65fd-9496-4ac6-9e5e-a07099d54164",
   "metadata": {},
   "source": [
    "### Below are a few examples of evaluating arithmetic expressions in Python."
   ]
  },
  {
   "cell_type": "code",
   "execution_count": 2,
   "id": "2bc27066-6f8d-4163-84b6-0307d4b01ee7",
   "metadata": {},
   "outputs": [
    {
     "data": {
      "text/plain": [
       "17"
      ]
     },
     "execution_count": 2,
     "metadata": {},
     "output_type": "execute_result"
    }
   ],
   "source": [
    "# This a simple arithmetic expression to mutiply then add integers\n",
    "(3*4)+5"
   ]
  },
  {
   "cell_type": "code",
   "execution_count": 5,
   "id": "e8e58f31-0894-484c-b66b-02dd0dbce4ff",
   "metadata": {},
   "outputs": [
    {
     "name": "stdout",
     "output_type": "stream",
     "text": [
      "200 minutes are : 3.3333333333333335 Hours\n"
     ]
    }
   ],
   "source": [
    "# This will convert 200 minutes to hours by diving by 60\n",
    "convert = 200 / 60\n",
    "print(\"200 minutes are :\", convert , \"Hours\")"
   ]
  },
  {
   "cell_type": "markdown",
   "id": "02802752-1493-4e2f-bfe9-b39ed36b93c5",
   "metadata": {},
   "source": [
    "## Author\n",
    "Fares Soula"
   ]
  },
  {
   "cell_type": "code",
   "execution_count": null,
   "id": "181e68ff-3cb1-4a65-b43d-e09fab3b1352",
   "metadata": {},
   "outputs": [],
   "source": []
  }
 ],
 "metadata": {
  "kernelspec": {
   "display_name": "Python 3 (ipykernel)",
   "language": "python",
   "name": "python3"
  },
  "language_info": {
   "codemirror_mode": {
    "name": "ipython",
    "version": 3
   },
   "file_extension": ".py",
   "mimetype": "text/x-python",
   "name": "python",
   "nbconvert_exporter": "python",
   "pygments_lexer": "ipython3",
   "version": "3.13.1"
  }
 },
 "nbformat": 4,
 "nbformat_minor": 5
}
